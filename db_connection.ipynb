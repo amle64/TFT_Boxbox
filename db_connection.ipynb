{
 "cells": [
  {
   "cell_type": "code",
   "execution_count": 2,
   "metadata": {},
   "outputs": [],
   "source": [
    "import psycopg2\n",
    "\n",
    "##Function to connect to the database\n",
    "def get_connection():\n",
    "    try:\n",
    "    \n",
    "        conn = psycopg2.connect(\n",
    "            dbname=\"tft_boxbox\",\n",
    "            user=\"postgres\",\n",
    "            password=\"postgres1\",\n",
    "            host=\"localhost\",  # or your server's IP\n",
    "            port=\"5432\"  # Default PostgreSQL port\n",
    "        )\n",
    "        return conn\n",
    "    except Exception as e:\n",
    "        print(\"Error while connecting to the databse:\",e)\n",
    "        return None\n",
    "        "
   ]
  },
  {
   "cell_type": "code",
   "execution_count": 3,
   "metadata": {},
   "outputs": [
    {
     "name": "stdout",
     "output_type": "stream",
     "text": [
      "('PostgreSQL 16.4, compiled by Visual C++ build 1940, 64-bit',)\n"
     ]
    }
   ],
   "source": [
    "# Connect to the database\n",
    "connection = get_connection()\n",
    "cursor = connection.cursor()\n",
    "\n",
    "# Example query to verify connection\n",
    "cursor.execute(\"SELECT version();\")\n",
    "print(cursor.fetchone())"
   ]
  }
 ],
 "metadata": {
  "kernelspec": {
   "display_name": "Python 3",
   "language": "python",
   "name": "python3"
  },
  "language_info": {
   "codemirror_mode": {
    "name": "ipython",
    "version": 3
   },
   "file_extension": ".py",
   "mimetype": "text/x-python",
   "name": "python",
   "nbconvert_exporter": "python",
   "pygments_lexer": "ipython3",
   "version": "3.11.9"
  }
 },
 "nbformat": 4,
 "nbformat_minor": 2
}
