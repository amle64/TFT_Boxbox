{
 "cells": [
  {
   "cell_type": "code",
   "execution_count": 1,
   "metadata": {},
   "outputs": [
    {
     "data": {
      "text/plain": [
       "<Response [200]>"
      ]
     },
     "execution_count": 1,
     "metadata": {},
     "output_type": "execute_result"
    }
   ],
   "source": [
    "##Api key below from Riot API (needs to be updated)\n",
    "api_key = \"RGAPI-b04a361e-f2b2-4fb7-aa76-1753cacd9578\"\n",
    "\n",
    "import requests\n",
    "\n",
    "##boxbox current ign --> 안 돼#NA2\n",
    "##puuid is public id of an account\n",
    "\n",
    "puu_id = \"sqBQF6Ad3FRad6KJlQ0fZUihhBy8Dw0MeR9C4o8K6M2BnDZ52eTai6vhAKkF7DGdZp8hR_fO0hUk4Q\"\n",
    "id = \"vsHnWoQh9Z__6zfT6ta2tNX8vy9xKmI8Ku7N1vcvnAZgTQ8\"\n",
    "account_id = \"99F7KYdUR2qDwegpvP-9GdH4nrSXqHz5M5q5FZJcLE8CDA\"\n",
    "##Utilizes f-string denoted with curly brackets to utilize the puu_id and api_key within url\n",
    "api_url = f\"https://americas.api.riotgames.com/tft/match/v1/matches/by-puuid/{puu_id}/ids?start=0&count=20&api_key={api_key}\"\n",
    "requests.get(api_url)"
   ]
  },
  {
   "cell_type": "code",
   "execution_count": 2,
   "metadata": {},
   "outputs": [
    {
     "data": {
      "text/plain": [
       "['NA1_5171810754',\n",
       " 'NA1_5171766312',\n",
       " 'NA1_5171710318',\n",
       " 'NA1_5171638133',\n",
       " 'NA1_5171587618',\n",
       " 'NA1_5171549609',\n",
       " 'NA1_5170858395',\n",
       " 'NA1_5170816673',\n",
       " 'NA1_5170771555',\n",
       " 'NA1_5170719769',\n",
       " 'NA1_5170670210',\n",
       " 'NA1_5170614448',\n",
       " 'NA1_5170581968',\n",
       " 'NA1_5169656119',\n",
       " 'NA1_5169598478',\n",
       " 'NA1_5169536395',\n",
       " 'NA1_5169491035',\n",
       " 'NA1_5169457166',\n",
       " 'NA1_5169412786',\n",
       " 'NA1_5169373097']"
      ]
     },
     "execution_count": 2,
     "metadata": {},
     "output_type": "execute_result"
    }
   ],
   "source": [
    "##Response to save the match_ids from player's puuid (Expected result is 200)\n",
    "response = requests.get(api_url)\n",
    "\n",
    "##Match_ids return List<Strings> of each match_id for each match\n",
    "match_ids =response.json()\n",
    "match_ids"
   ]
  },
  {
   "cell_type": "code",
   "execution_count": null,
   "metadata": {},
   "outputs": [],
   "source": []
  }
 ],
 "metadata": {
  "kernelspec": {
   "display_name": "Python 3",
   "language": "python",
   "name": "python3"
  },
  "language_info": {
   "codemirror_mode": {
    "name": "ipython",
    "version": 3
   },
   "file_extension": ".py",
   "mimetype": "text/x-python",
   "name": "python",
   "nbconvert_exporter": "python",
   "pygments_lexer": "ipython3",
   "version": "3.11.9"
  }
 },
 "nbformat": 4,
 "nbformat_minor": 2
}
