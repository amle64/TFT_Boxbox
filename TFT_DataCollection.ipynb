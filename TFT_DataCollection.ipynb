{
 "cells": [
  {
   "cell_type": "code",
   "execution_count": null,
   "metadata": {},
   "outputs": [
    {
     "data": {
      "text/plain": [
       "<Response [200]>"
      ]
     },
     "execution_count": 17,
     "metadata": {},
     "output_type": "execute_result"
    }
   ],
   "source": [
    "##Api key below from Riot API (needs to be updated)\n",
    "api_key = \"RGAPI-5cdc591c-b4fd-4458-9c41-9643fe5ba079\"\n",
    "\n",
    "import requests\n",
    "\n",
    "##boxbox current ign --> 안 돼#NA2\n",
    "##puuid is public id of an account\n",
    "\n",
    "puu_id = \"sqBQF6Ad3FRad6KJlQ0fZUihhBy8Dw0MeR9C4o8K6M2BnDZ52eTai6vhAKkF7DGdZp8hR_fO0hUk4Q\"\n",
    "\n",
    "##Utilizes f-string denoted with curly brackets to utilize the puu_id and api_key within url\n",
    "api_url = f\"https://americas.api.riotgames.com/lol/match/v5/matches/by-puuid/{puu_id}/ids?start=0&count=20&api_key={api_key}\"\n",
    "requests.get(api_url)"
   ]
  },
  {
   "cell_type": "code",
   "execution_count": 22,
   "metadata": {},
   "outputs": [
    {
     "data": {
      "text/plain": [
       "['NA1_5155450641',\n",
       " 'NA1_5155440706',\n",
       " 'NA1_5145330469',\n",
       " 'NA1_5145298644',\n",
       " 'NA1_5145186637',\n",
       " 'NA1_5145158911',\n",
       " 'NA1_5145081058',\n",
       " 'NA1_5141701056',\n",
       " 'NA1_5141682507',\n",
       " 'NA1_5139570718',\n",
       " 'NA1_5139534572',\n",
       " 'NA1_5139496301',\n",
       " 'NA1_5139101384',\n",
       " 'NA1_5134457793',\n",
       " 'NA1_5134441172',\n",
       " 'NA1_5134351899',\n",
       " 'NA1_5134322168',\n",
       " 'NA1_5134296912',\n",
       " 'NA1_5134262308',\n",
       " 'NA1_5134233748']"
      ]
     },
     "execution_count": 22,
     "metadata": {},
     "output_type": "execute_result"
    }
   ],
   "source": [
    "##Response to save the match_ids from player's puuid (Expected result is 200)\n",
    "response = requests.get(api_url)\n",
    "\n",
    "##Match_ids return List<Strings> of each match_id for each match\n",
    "match_ids =response.json()\n",
    "match_ids"
   ]
  },
  {
   "cell_type": "code",
   "execution_count": null,
   "metadata": {},
   "outputs": [],
   "source": []
  }
 ],
 "metadata": {
  "kernelspec": {
   "display_name": "Python 3",
   "language": "python",
   "name": "python3"
  },
  "language_info": {
   "codemirror_mode": {
    "name": "ipython",
    "version": 3
   },
   "file_extension": ".py",
   "mimetype": "text/x-python",
   "name": "python",
   "nbconvert_exporter": "python",
   "pygments_lexer": "ipython3",
   "version": "3.11.9"
  }
 },
 "nbformat": 4,
 "nbformat_minor": 2
}
