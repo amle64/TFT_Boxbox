{
 "cells": [
  {
   "cell_type": "code",
   "execution_count": null,
   "metadata": {},
   "outputs": [
    {
     "data": {
      "text/plain": [
       "<Response [200]>"
      ]
     },
     "execution_count": 17,
     "metadata": {},
     "output_type": "execute_result"
    }
   ],
   "source": [
    "##Api key below from Riot API\n",
    "api_key = \"RGAPI-5cdc591c-b4fd-4458-9c41-9643fe5ba079\"\n",
    "\n",
    "import requests\n",
    "\n",
    "##boxbox current ign --> 안 돼#NA2\n",
    "##puuid is public id of an account\n",
    "\n",
    "puu_id = \"sqBQF6Ad3FRad6KJlQ0fZUihhBy8Dw0MeR9C4o8K6M2BnDZ52eTai6vhAKkF7DGdZp8hR_fO0hUk4Q\"\n",
    "\n",
    "##Utilizes f-string denoted with curly brackets to utilize the puu_id and api_key within url\n",
    "api_url = f\"https://americas.api.riotgames.com/lol/match/v5/matches/by-puuid/{puu_id}/ids?start=0&count=20&api_key={api_key}\"\n",
    "requests.get(api_url)"
   ]
  },
  {
   "cell_type": "code",
   "execution_count": null,
   "metadata": {},
   "outputs": [],
   "source": []
  }
 ],
 "metadata": {
  "kernelspec": {
   "display_name": "Python 3",
   "language": "python",
   "name": "python3"
  },
  "language_info": {
   "codemirror_mode": {
    "name": "ipython",
    "version": 3
   },
   "file_extension": ".py",
   "mimetype": "text/x-python",
   "name": "python",
   "nbconvert_exporter": "python",
   "pygments_lexer": "ipython3",
   "version": "3.11.9"
  }
 },
 "nbformat": 4,
 "nbformat_minor": 2
}
